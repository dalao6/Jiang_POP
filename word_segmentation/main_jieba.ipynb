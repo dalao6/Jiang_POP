{
 "cells": [
  {
   "cell_type": "markdown",
   "id": "6c1edfaa-6341-42fb-9d88-ee40091641c2",
   "metadata": {},
   "source": [
    "## 载入词典"
   ]
  },
  {
   "cell_type": "code",
   "execution_count": 1,
   "id": "22fe02fd-d8d1-41b1-9df9-b74c33d05747",
   "metadata": {},
   "outputs": [
    {
     "name": "stderr",
     "output_type": "stream",
     "text": [
      "Building prefix dict from the default dictionary ...\n",
      "Dumping model to file cache C:\\Users\\ADMINI~1\\AppData\\Local\\Temp\\jieba.cache\n",
      "Loading model cost 0.673 seconds.\n",
      "Prefix dict has been built successfully.\n"
     ]
    },
    {
     "name": "stdout",
     "output_type": "stream",
     "text": [
      "Default Mode: jjh/即将/是/自然语言/处理/方面/的/高手/。\n"
     ]
    }
   ],
   "source": [
    "import jieba\n",
    "# 加载自定义词典\n",
    "jieba.load_userdict(\"userdict.txt\")\n",
    "\n",
    "# 验证分词效果\n",
    "seg_list = jieba.cut(\"jjh即将是自然语言处理方面的高手。\", cut_all=False, HMM=False)\n",
    "print(\"Default Mode: \" + \"/\".join(seg_list))"
   ]
  },
  {
   "cell_type": "code",
   "execution_count": 2,
   "id": "26b9875e-2e73-4711-9a97-480251e816c3",
   "metadata": {},
   "outputs": [
    {
     "name": "stdout",
     "output_type": "stream",
     "text": [
      "提取的 top-5 关键词为： 重点, 大学, 国家, 河北省, 共建\n"
     ]
    }
   ],
   "source": [
    "import jieba\n",
    "import jieba.analyse\n",
    "\n",
    "# 定义待提取关键词的句子\n",
    "sentence = \"燕山大学是河北省人民政府、教育部、工业和信息化部、国家国防科技工业局四方共建的全国重点大学，河北省重点支持的国家一流大学和世界一流学科建设高校，北京高科大学联盟成员。\"\n",
    "\n",
    "# 基于 TextRank 算法提取 top-5 关键词\n",
    "top_k = 5\n",
    "keywords = jieba.analyse.textrank(sentence, topK=top_k, withWeight=False)\n",
    "\n",
    "# 输出关键词\n",
    "print(\"提取的 top-5 关键词为：\", \", \".join(keywords))"
   ]
  },
  {
   "cell_type": "code",
   "execution_count": 2,
   "id": "71a5108a-ac6d-4d41-b331-d01fab375ade",
   "metadata": {},
   "outputs": [
    {
     "name": "stderr",
     "output_type": "stream",
     "text": [
      "Building prefix dict from the default dictionary ...\n",
      "Loading model from cache C:\\Users\\ADMINI~1\\AppData\\Local\\Temp\\jieba.cache\n",
      "Loading model cost 0.430 seconds.\n",
      "Prefix dict has been built successfully.\n"
     ]
    },
    {
     "name": "stdout",
     "output_type": "stream",
     "text": [
      "Full Mode: 我/ 来到/ 北京/ 清华/ 清华大学/ 华大/ 大学\n",
      "Default Mode: 我/ 来到/ 北京/ 清华大学\n",
      "小明, 硕士, 毕业, 于, 中国, 科学, 学院, 科学院, 中国科学院, 计算, 计算所, ，, 后, 在, 日本, 京都, 大学, 日本京都大学, 深造\n"
     ]
    }
   ],
   "source": [
    "# 全模式\n",
    "import jieba\n",
    "seg_list = jieba.cut(\"我来到北京清华大学\", cut_all=True)\n",
    "print(\"Full Mode: \" + \"/ \".join(seg_list))  # 全模式\n",
    "\n",
    "# 精确模式\n",
    "seg_list = jieba.cut(\"我来到北京清华大学\", cut_all=False)\n",
    "print(\"Default Mode: \" + \"/ \".join(seg_list))  # 精确模式\n",
    "\n",
    "# 搜索引擎模式\n",
    "seg_list = jieba.cut_for_search(\"小明硕士毕业于中国科学院计算所，后在日本京都大学深造\")\n",
    "print(\", \".join(seg_list))"
   ]
  },
  {
   "cell_type": "code",
   "execution_count": null,
   "id": "8e14cd12-5162-4ecf-8cd7-a42cb89e8ecd",
   "metadata": {},
   "outputs": [],
   "source": []
  }
 ],
 "metadata": {
  "kernelspec": {
   "display_name": "Python 3 (ipykernel)",
   "language": "python",
   "name": "python3"
  },
  "language_info": {
   "codemirror_mode": {
    "name": "ipython",
    "version": 3
   },
   "file_extension": ".py",
   "mimetype": "text/x-python",
   "name": "python",
   "nbconvert_exporter": "python",
   "pygments_lexer": "ipython3",
   "version": "3.10.16"
  }
 },
 "nbformat": 4,
 "nbformat_minor": 5
}
